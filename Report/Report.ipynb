{
 "cells": [
  {
   "cell_type": "markdown",
   "metadata": {},
   "source": [
    "# Suggestion of Cities for Opening a Restaurant\n",
    "___"
   ]
  },
  {
   "cell_type": "markdown",
   "metadata": {},
   "source": [
    "## Introduction\n",
    "___"
   ]
  },
  {
   "cell_type": "markdown",
   "metadata": {},
   "source": [
    "Restaurants provide the best business opportunity for small scale investors and businessmen.If the quality of food,service and ambience of a restaurant is satisfactory then the restaurant ensures the inflow of customers and  provide a steady income to the owner.\n",
    "However,due to increase in the number of restaurants,opening a new profitable restaurant requires a lot of planning.Therefore profitable restaurant business is all about finding your niche customers and serving them the food that they want.Nowadays restautants specialized in giving a particular type of food are getting more popular.Hence the type of food  is the  first criteria to decide for opening a new restaurant.After the food,location plays a crucial role in the inflow of loyal customers. \n"
   ]
  },
  {
   "cell_type": "markdown",
   "metadata": {},
   "source": [
    "## Problem statement\n",
    "___"
   ]
  },
  {
   "cell_type": "markdown",
   "metadata": {},
   "source": [
    "After selecting  food the biggest challenge for opening a restaurant is selecting a location.The location should have customers who want to eat the food.The location should also have restaurants serving the same food.If the location has more number of restaurants serving a particular food it will clearly indicate that more customers are present in that location who want that food.Hence in this assignment the goal is to find  a list of cities where more no of a particular kind of restaurants are functioning.The list will give us an clear idea of prime locations for opening a restaurant.Any businessman or investor can use this project  to give a type of restaurant for e.g. Indian Restaurant and get a list of cities where maximum number of Indian restaurants are already functioning."
   ]
  },
  {
   "cell_type": "markdown",
   "metadata": {},
   "source": [
    "## Data\n",
    "___"
   ]
  },
  {
   "cell_type": "markdown",
   "metadata": {},
   "source": [
    "For preparing this project following two types of data will be used:\n",
    "\n",
    "1.**FOURSQUARE API** :This api will be used to search for all the venues(For e.g. Indian ) present in a City serving a particular type of customers.From these list of venues only restaurants data(For e.g. Indian Restaurant) will be selected.\n",
    "The number of these restaurants will be counted for the city.This process will be repeated for all the cities of United States of America and  finally a list will be created with cities and number of restuarants operating.\n",
    "\n",
    "2.**Kaggle**(https://www.kaggle.com/mahbubrob/usa-cities#usa_cities.csv) :This database is will be  used to get the longitude and latitude of all the cities.Subsequently this data will be used for querying in Foursquare api.\n"
   ]
  },
  {
   "cell_type": "markdown",
   "metadata": {},
   "source": [
    "## Methodology\n",
    "___"
   ]
  },
  {
   "cell_type": "markdown",
   "metadata": {},
   "source": [
    "The purpose of this project is to show a list of cities where already a number of aprticular restaurants are functioning.This indicates more availability of niche customers in that city.Therefore Kaggale data is used to get all the coordinates of all cities and Foursquare api is used for finding the Indian restaurants in those cities.Following steps are used to reach at the conclusion.\n",
    "\n",
    "    1.Get the location data of all cities.\n",
    "    2.Get the query for the type of restuarant from the user.\n",
    "    3.Use Foursquare api to search for all the venues with the user's query for each city.\n",
    "    4.Filter out the Restaurants from all the venues for each city.\n",
    "    5.Count the Number of restaurants for each city.\n",
    "    6.Prepare a new list of cities with the count of restaurants.\n",
    "\n",
    "\n",
    "For location data of cities csv file is used.The csv file is imported into a dataframe.Then dataframe is preprocessed to remove unneccessary data.Then a query from user is taken and Foursquare api is used to find all the venues for each city.After getting the venues the result is again processed to keep only the data for restaurants.Then the count of the restaurants for each city is taken.Finally a list is created with the count of restaurants for each city."
   ]
  },
  {
   "cell_type": "markdown",
   "metadata": {},
   "source": [
    "## Results\n",
    "___"
   ]
  },
  {
   "cell_type": "markdown",
   "metadata": {},
   "source": [
    "The result of this project is a list of cities which shows the count of the user defined restaurants in each city.Therefore it gives a clear idea to user about the location where he will get more inflow of customers.\n",
    "\n",
    "<img src=\"List of cities.jpg\">\n",
    "\n",
    "In the above screnshots we can clearly see that new york has the highest number of Indian restaurants.This indicates that New york has the highest number of customers who are interested in eating Indian food.Therefore a new Indian restaurant serving authentic Indian food will be more profitable than the rest of the cities."
   ]
  },
  {
   "cell_type": "markdown",
   "metadata": {},
   "source": [
    "## Discussion\n",
    "___"
   ]
  },
  {
   "cell_type": "markdown",
   "metadata": {},
   "source": [
    "This project can be further improved if we get the population data of each city and the eating pattern of all the population of the city.It will give more insights about what makes a human  like a particular food and dislike annother food.The data then can be used by the restaurant owner to select the food items for preparing the menu which the customer actually wants.\n",
    "However since this involves  taking personal data of people,it will be very difficult to get the required data with the consent of user.\n",
    "May be future robots and A.I. programs will do it and restaurant business will become more profitable."
   ]
  },
  {
   "cell_type": "markdown",
   "metadata": {},
   "source": [
    "## Conclusion\n",
    "___"
   ]
  },
  {
   "cell_type": "markdown",
   "metadata": {},
   "source": [
    "In conclusion,this project is prepared to help the businessman and investors in getting the best cities to open a restaurant where more customers are willing to pay for the food.This will reduce their cost of marketing and more focus will be on serving  quality food and service to the customer.Happy customers will make the restaurant business more profitable.\n"
   ]
  }
 ],
 "metadata": {
  "kernelspec": {
   "display_name": "Python 3",
   "language": "python",
   "name": "python3"
  },
  "language_info": {
   "codemirror_mode": {
    "name": "ipython",
    "version": 3
   },
   "file_extension": ".py",
   "mimetype": "text/x-python",
   "name": "python",
   "nbconvert_exporter": "python",
   "pygments_lexer": "ipython3",
   "version": "3.7.3"
  }
 },
 "nbformat": 4,
 "nbformat_minor": 2
}
