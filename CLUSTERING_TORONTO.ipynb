{
 "cells": [
  {
   "cell_type": "code",
   "execution_count": 4,
   "metadata": {},
   "outputs": [
    {
     "name": "stdout",
     "output_type": "stream",
     "text": [
      "Collecting geopy\n",
      "  Downloading https://files.pythonhosted.org/packages/80/93/d384479da0ead712bdaf697a8399c13a9a89bd856ada5a27d462fb45e47b/geopy-1.20.0-py2.py3-none-any.whl (100kB)\n",
      "Collecting geographiclib<2,>=1.49 (from geopy)\n",
      "  Downloading https://files.pythonhosted.org/packages/5b/ac/4f348828091490d77899bc74e92238e2b55c59392f21948f296e94e50e2b/geographiclib-1.49.tar.gz\n",
      "Building wheels for collected packages: geographiclib\n",
      "  Building wheel for geographiclib (setup.py): started\n",
      "  Building wheel for geographiclib (setup.py): finished with status 'done'\n",
      "  Stored in directory: C:\\Users\\singh\\AppData\\Local\\pip\\Cache\\wheels\\99\\45\\d1\\14954797e2a976083182c2e7da9b4e924509e59b6e5c661061\n",
      "Successfully built geographiclib\n",
      "Installing collected packages: geographiclib, geopy\n",
      "Successfully installed geographiclib-1.49 geopy-1.20.0\n",
      "Note: you may need to restart the kernel to use updated packages.\n"
     ]
    }
   ],
   "source": [
    "pip install geopy"
   ]
  },
  {
   "cell_type": "code",
   "execution_count": 6,
   "metadata": {
    "scrolled": true
   },
   "outputs": [
    {
     "name": "stdout",
     "output_type": "stream",
     "text": [
      "Collecting folium\n",
      "  Downloading https://files.pythonhosted.org/packages/4f/86/1ab30184cb60bc2b95deffe2bd86b8ddbab65a4fac9f7313c278c6e8d049/folium-0.9.1-py2.py3-none-any.whl (91kB)\n",
      "Requirement already satisfied: jinja2>=2.9 in c:\\programdata\\anaconda3\\lib\\site-packages (from folium) (2.10)\n",
      "Requirement already satisfied: numpy in c:\\programdata\\anaconda3\\lib\\site-packages (from folium) (1.16.2)\n",
      "Collecting branca>=0.3.0 (from folium)\n",
      "  Downloading https://files.pythonhosted.org/packages/63/36/1c93318e9653f4e414a2e0c3b98fc898b4970e939afeedeee6075dd3b703/branca-0.3.1-py3-none-any.whl\n",
      "Requirement already satisfied: requests in c:\\programdata\\anaconda3\\lib\\site-packages (from folium) (2.21.0)\n",
      "Requirement already satisfied: MarkupSafe>=0.23 in c:\\programdata\\anaconda3\\lib\\site-packages (from jinja2>=2.9->folium) (1.1.1)\n",
      "Requirement already satisfied: six in c:\\programdata\\anaconda3\\lib\\site-packages (from branca>=0.3.0->folium) (1.12.0)\n",
      "Requirement already satisfied: idna<2.9,>=2.5 in c:\\programdata\\anaconda3\\lib\\site-packages (from requests->folium) (2.8)\n",
      "Requirement already satisfied: chardet<3.1.0,>=3.0.2 in c:\\programdata\\anaconda3\\lib\\site-packages (from requests->folium) (3.0.4)\n",
      "Requirement already satisfied: certifi>=2017.4.17 in c:\\programdata\\anaconda3\\lib\\site-packages (from requests->folium) (2019.3.9)\n",
      "Requirement already satisfied: urllib3<1.25,>=1.21.1 in c:\\programdata\\anaconda3\\lib\\site-packages (from requests->folium) (1.24.1)\n",
      "Installing collected packages: branca, folium\n",
      "Successfully installed branca-0.3.1 folium-0.9.1\n",
      "Note: you may need to restart the kernel to use updated packages.\n"
     ]
    }
   ],
   "source": [
    "pip install folium"
   ]
  },
  {
   "cell_type": "code",
   "execution_count": 1,
   "metadata": {},
   "outputs": [],
   "source": [
    "# import all libraries\n",
    "\n",
    "from geopy.geocoders import Nominatim\n",
    "import matplotlib.cm as cm\n",
    "import matplotlib.colors as colors\n",
    "from sklearn.cluster import KMeans\n",
    "import folium\n",
    "import requests\n",
    "from bs4 import BeautifulSoup\n",
    "import pandas as pd\n",
    "pd.set_option('display.max_columns', None)\n",
    "pd.set_option('display.max_rows', None)\n",
    "import numpy as np"
   ]
  },
  {
   "cell_type": "markdown",
   "metadata": {},
   "source": [
    "## SCraping data and creating a data frame for Toronto"
   ]
  },
  {
   "cell_type": "code",
   "execution_count": 2,
   "metadata": {},
   "outputs": [],
   "source": [
    "page = requests.get(\"https://en.wikipedia.org/wiki/List_of_postal_codes_of_Canada:_M\")\n",
    "soup = BeautifulSoup(page.content, 'html.parser')"
   ]
  },
  {
   "cell_type": "code",
   "execution_count": 3,
   "metadata": {},
   "outputs": [
    {
     "data": {
      "text/html": [
       "<div>\n",
       "<style scoped>\n",
       "    .dataframe tbody tr th:only-of-type {\n",
       "        vertical-align: middle;\n",
       "    }\n",
       "\n",
       "    .dataframe tbody tr th {\n",
       "        vertical-align: top;\n",
       "    }\n",
       "\n",
       "    .dataframe thead th {\n",
       "        text-align: right;\n",
       "    }\n",
       "</style>\n",
       "<table border=\"1\" class=\"dataframe\">\n",
       "  <thead>\n",
       "    <tr style=\"text-align: right;\">\n",
       "      <th></th>\n",
       "      <th>Postcode</th>\n",
       "      <th>Borough</th>\n",
       "      <th>Neighbourhood</th>\n",
       "    </tr>\n",
       "  </thead>\n",
       "  <tbody>\n",
       "    <tr>\n",
       "      <th>0</th>\n",
       "      <td>M3A</td>\n",
       "      <td>North York</td>\n",
       "      <td>Parkwoods</td>\n",
       "    </tr>\n",
       "    <tr>\n",
       "      <th>1</th>\n",
       "      <td>M4A</td>\n",
       "      <td>North York</td>\n",
       "      <td>Victoria Village</td>\n",
       "    </tr>\n",
       "    <tr>\n",
       "      <th>2</th>\n",
       "      <td>M5A</td>\n",
       "      <td>Downtown Toronto</td>\n",
       "      <td>Harbourfront,Regent Park</td>\n",
       "    </tr>\n",
       "    <tr>\n",
       "      <th>3</th>\n",
       "      <td>M6A</td>\n",
       "      <td>North York</td>\n",
       "      <td>Lawrence Heights,Lawrence Manor</td>\n",
       "    </tr>\n",
       "    <tr>\n",
       "      <th>4</th>\n",
       "      <td>M7A</td>\n",
       "      <td>Queen's Park</td>\n",
       "      <td>Queen's Park</td>\n",
       "    </tr>\n",
       "  </tbody>\n",
       "</table>\n",
       "</div>"
      ],
      "text/plain": [
       "  Postcode           Borough                    Neighbourhood\n",
       "0      M3A        North York                        Parkwoods\n",
       "1      M4A        North York                 Victoria Village\n",
       "2      M5A  Downtown Toronto         Harbourfront,Regent Park\n",
       "3      M6A        North York  Lawrence Heights,Lawrence Manor\n",
       "4      M7A      Queen's Park                     Queen's Park"
      ]
     },
     "execution_count": 3,
     "metadata": {},
     "output_type": "execute_result"
    }
   ],
   "source": [
    "table = soup.find('tbody')\n",
    "rows = table.select('tr')\n",
    "row = [r.get_text() for r in rows]\n",
    "df = pd.DataFrame(row)\n",
    "df1 = df[0].str.split('\\n', expand=True)\n",
    "df2 = df1.rename(columns=df1.iloc[0])\n",
    "df3 = df2.drop(df2.index[0])\n",
    "df4 = df3[df3.Borough != 'Not assigned']\n",
    "df5 = df4.groupby(['Postcode', 'Borough'], sort = False).agg(','.join)\n",
    "df5.reset_index(inplace = True)\n",
    "df6 = df5.replace(\"Not assigned\", \"Queen's Park\")\n",
    "df6.head()"
   ]
  },
  {
   "cell_type": "code",
   "execution_count": 4,
   "metadata": {},
   "outputs": [
    {
     "data": {
      "text/html": [
       "<div>\n",
       "<style scoped>\n",
       "    .dataframe tbody tr th:only-of-type {\n",
       "        vertical-align: middle;\n",
       "    }\n",
       "\n",
       "    .dataframe tbody tr th {\n",
       "        vertical-align: top;\n",
       "    }\n",
       "\n",
       "    .dataframe thead th {\n",
       "        text-align: right;\n",
       "    }\n",
       "</style>\n",
       "<table border=\"1\" class=\"dataframe\">\n",
       "  <thead>\n",
       "    <tr style=\"text-align: right;\">\n",
       "      <th></th>\n",
       "      <th>Postcode</th>\n",
       "      <th>Latitude</th>\n",
       "      <th>Longitude</th>\n",
       "    </tr>\n",
       "  </thead>\n",
       "  <tbody>\n",
       "    <tr>\n",
       "      <th>0</th>\n",
       "      <td>M1B</td>\n",
       "      <td>43.806686</td>\n",
       "      <td>-79.194353</td>\n",
       "    </tr>\n",
       "    <tr>\n",
       "      <th>1</th>\n",
       "      <td>M1C</td>\n",
       "      <td>43.784535</td>\n",
       "      <td>-79.160497</td>\n",
       "    </tr>\n",
       "    <tr>\n",
       "      <th>2</th>\n",
       "      <td>M1E</td>\n",
       "      <td>43.763573</td>\n",
       "      <td>-79.188711</td>\n",
       "    </tr>\n",
       "    <tr>\n",
       "      <th>3</th>\n",
       "      <td>M1G</td>\n",
       "      <td>43.770992</td>\n",
       "      <td>-79.216917</td>\n",
       "    </tr>\n",
       "    <tr>\n",
       "      <th>4</th>\n",
       "      <td>M1H</td>\n",
       "      <td>43.773136</td>\n",
       "      <td>-79.239476</td>\n",
       "    </tr>\n",
       "  </tbody>\n",
       "</table>\n",
       "</div>"
      ],
      "text/plain": [
       "  Postcode   Latitude  Longitude\n",
       "0      M1B  43.806686 -79.194353\n",
       "1      M1C  43.784535 -79.160497\n",
       "2      M1E  43.763573 -79.188711\n",
       "3      M1G  43.770992 -79.216917\n",
       "4      M1H  43.773136 -79.239476"
      ]
     },
     "execution_count": 4,
     "metadata": {},
     "output_type": "execute_result"
    }
   ],
   "source": [
    "#Reading CSV file for geo data\n",
    "url = \"http://cocl.us/Geospatial_data\"\n",
    "df7 = pd.read_csv(url)\n",
    "df7.rename(columns={'Postal Code': 'Postcode'}, inplace=True) # chane the first column's name to be as the first dataframe\n",
    "df7.head()"
   ]
  },
  {
   "cell_type": "code",
   "execution_count": 5,
   "metadata": {},
   "outputs": [
    {
     "data": {
      "text/html": [
       "<div>\n",
       "<style scoped>\n",
       "    .dataframe tbody tr th:only-of-type {\n",
       "        vertical-align: middle;\n",
       "    }\n",
       "\n",
       "    .dataframe tbody tr th {\n",
       "        vertical-align: top;\n",
       "    }\n",
       "\n",
       "    .dataframe thead th {\n",
       "        text-align: right;\n",
       "    }\n",
       "</style>\n",
       "<table border=\"1\" class=\"dataframe\">\n",
       "  <thead>\n",
       "    <tr style=\"text-align: right;\">\n",
       "      <th></th>\n",
       "      <th>Postcode</th>\n",
       "      <th>Borough</th>\n",
       "      <th>Neighbourhood</th>\n",
       "      <th>Latitude</th>\n",
       "      <th>Longitude</th>\n",
       "    </tr>\n",
       "  </thead>\n",
       "  <tbody>\n",
       "    <tr>\n",
       "      <th>0</th>\n",
       "      <td>M3A</td>\n",
       "      <td>North York</td>\n",
       "      <td>Parkwoods</td>\n",
       "      <td>43.753259</td>\n",
       "      <td>-79.329656</td>\n",
       "    </tr>\n",
       "    <tr>\n",
       "      <th>1</th>\n",
       "      <td>M4A</td>\n",
       "      <td>North York</td>\n",
       "      <td>Victoria Village</td>\n",
       "      <td>43.725882</td>\n",
       "      <td>-79.315572</td>\n",
       "    </tr>\n",
       "    <tr>\n",
       "      <th>2</th>\n",
       "      <td>M5A</td>\n",
       "      <td>Downtown Toronto</td>\n",
       "      <td>Harbourfront,Regent Park</td>\n",
       "      <td>43.654260</td>\n",
       "      <td>-79.360636</td>\n",
       "    </tr>\n",
       "    <tr>\n",
       "      <th>3</th>\n",
       "      <td>M6A</td>\n",
       "      <td>North York</td>\n",
       "      <td>Lawrence Heights,Lawrence Manor</td>\n",
       "      <td>43.718518</td>\n",
       "      <td>-79.464763</td>\n",
       "    </tr>\n",
       "    <tr>\n",
       "      <th>4</th>\n",
       "      <td>M7A</td>\n",
       "      <td>Queen's Park</td>\n",
       "      <td>Queen's Park</td>\n",
       "      <td>43.662301</td>\n",
       "      <td>-79.389494</td>\n",
       "    </tr>\n",
       "  </tbody>\n",
       "</table>\n",
       "</div>"
      ],
      "text/plain": [
       "  Postcode           Borough                    Neighbourhood   Latitude  \\\n",
       "0      M3A        North York                        Parkwoods  43.753259   \n",
       "1      M4A        North York                 Victoria Village  43.725882   \n",
       "2      M5A  Downtown Toronto         Harbourfront,Regent Park  43.654260   \n",
       "3      M6A        North York  Lawrence Heights,Lawrence Manor  43.718518   \n",
       "4      M7A      Queen's Park                     Queen's Park  43.662301   \n",
       "\n",
       "   Longitude  \n",
       "0 -79.329656  \n",
       "1 -79.315572  \n",
       "2 -79.360636  \n",
       "3 -79.464763  \n",
       "4 -79.389494  "
      ]
     },
     "execution_count": 5,
     "metadata": {},
     "output_type": "execute_result"
    }
   ],
   "source": [
    "#Merging two fdataframes\n",
    "\n",
    "df8 = pd.merge(df6, df7, on='Postcode')\n",
    "df8.head()"
   ]
  },
  {
   "cell_type": "markdown",
   "metadata": {},
   "source": [
    "## Creating dataframe for Boroughs having the word TORONTO"
   ]
  },
  {
   "cell_type": "code",
   "execution_count": 6,
   "metadata": {},
   "outputs": [
    {
     "data": {
      "text/html": [
       "<div>\n",
       "<style scoped>\n",
       "    .dataframe tbody tr th:only-of-type {\n",
       "        vertical-align: middle;\n",
       "    }\n",
       "\n",
       "    .dataframe tbody tr th {\n",
       "        vertical-align: top;\n",
       "    }\n",
       "\n",
       "    .dataframe thead th {\n",
       "        text-align: right;\n",
       "    }\n",
       "</style>\n",
       "<table border=\"1\" class=\"dataframe\">\n",
       "  <thead>\n",
       "    <tr style=\"text-align: right;\">\n",
       "      <th></th>\n",
       "      <th>Postcode</th>\n",
       "      <th>Borough</th>\n",
       "      <th>Neighbourhood</th>\n",
       "      <th>Latitude</th>\n",
       "      <th>Longitude</th>\n",
       "    </tr>\n",
       "  </thead>\n",
       "  <tbody>\n",
       "    <tr>\n",
       "      <th>2</th>\n",
       "      <td>M5A</td>\n",
       "      <td>Downtown Toronto</td>\n",
       "      <td>Harbourfront,Regent Park</td>\n",
       "      <td>43.654260</td>\n",
       "      <td>-79.360636</td>\n",
       "    </tr>\n",
       "    <tr>\n",
       "      <th>9</th>\n",
       "      <td>M5B</td>\n",
       "      <td>Downtown Toronto</td>\n",
       "      <td>Ryerson,Garden District</td>\n",
       "      <td>43.657162</td>\n",
       "      <td>-79.378937</td>\n",
       "    </tr>\n",
       "    <tr>\n",
       "      <th>15</th>\n",
       "      <td>M5C</td>\n",
       "      <td>Downtown Toronto</td>\n",
       "      <td>St. James Town</td>\n",
       "      <td>43.651494</td>\n",
       "      <td>-79.375418</td>\n",
       "    </tr>\n",
       "    <tr>\n",
       "      <th>19</th>\n",
       "      <td>M4E</td>\n",
       "      <td>East Toronto</td>\n",
       "      <td>The Beaches</td>\n",
       "      <td>43.676357</td>\n",
       "      <td>-79.293031</td>\n",
       "    </tr>\n",
       "    <tr>\n",
       "      <th>20</th>\n",
       "      <td>M5E</td>\n",
       "      <td>Downtown Toronto</td>\n",
       "      <td>Berczy Park</td>\n",
       "      <td>43.644771</td>\n",
       "      <td>-79.373306</td>\n",
       "    </tr>\n",
       "  </tbody>\n",
       "</table>\n",
       "</div>"
      ],
      "text/plain": [
       "   Postcode           Borough             Neighbourhood   Latitude  Longitude\n",
       "2       M5A  Downtown Toronto  Harbourfront,Regent Park  43.654260 -79.360636\n",
       "9       M5B  Downtown Toronto   Ryerson,Garden District  43.657162 -79.378937\n",
       "15      M5C  Downtown Toronto            St. James Town  43.651494 -79.375418\n",
       "19      M4E      East Toronto               The Beaches  43.676357 -79.293031\n",
       "20      M5E  Downtown Toronto               Berczy Park  43.644771 -79.373306"
      ]
     },
     "execution_count": 6,
     "metadata": {},
     "output_type": "execute_result"
    }
   ],
   "source": [
    "Toronto=df8[df8['Borough'].str.contains('Toronto')]\n",
    "Toronto.head()"
   ]
  },
  {
   "cell_type": "markdown",
   "metadata": {},
   "source": [
    "## Generate Maps to cluster neighbourhoods"
   ]
  },
  {
   "cell_type": "code",
   "execution_count": 7,
   "metadata": {},
   "outputs": [
    {
     "data": {
      "text/html": [
       "<div style=\"width:100%;\"><div style=\"position:relative;width:100%;height:0;padding-bottom:60%;\"><iframe src=\"data:text/html;charset=utf-8;base64,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\" style=\"position:absolute;width:100%;height:100%;left:0;top:0;border:none !important;\" allowfullscreen webkitallowfullscreen mozallowfullscreen></iframe></div></div>"
      ],
      "text/plain": [
       "<folium.folium.Map at 0x1e3f7f8fef0>"
      ]
     },
     "execution_count": 7,
     "metadata": {},
     "output_type": "execute_result"
    }
   ],
   "source": [
    "address = 'Toronto'\n",
    "geolocator = Nominatim(user_agent=\"Toronto_explorer\")\n",
    "location = geolocator.geocode(address)\n",
    "latitude = location.latitude\n",
    "longitude = location.longitude\n",
    "\n",
    "Toronto_map = folium.Map(location=[latitude, longitude], zoom_start=10)\n",
    "\n",
    "for lat, lng, borough, neighborhood in zip(Toronto['Latitude'], Toronto['Longitude'], \n",
    "                                           Toronto['Borough'], Toronto['Neighbourhood']):\n",
    "    label = '{}, {}'.format(neighborhood, borough)\n",
    "    label = folium.Popup(label, parse_html=True)\n",
    "    folium.CircleMarker(\n",
    "        [lat, lng],\n",
    "        radius=5,\n",
    "        popup=label,\n",
    "        color='blue',\n",
    "        fill=True,\n",
    "        fill_color='#3186cc',\n",
    "        fill_opacity=0.7,\n",
    "        parse_html=False).add_to(Toronto_map)  \n",
    "    \n",
    "Toronto_map"
   ]
  },
  {
   "cell_type": "code",
   "execution_count": null,
   "metadata": {},
   "outputs": [],
   "source": []
  }
 ],
 "metadata": {
  "kernelspec": {
   "display_name": "Python 3",
   "language": "python",
   "name": "python3"
  },
  "language_info": {
   "codemirror_mode": {
    "name": "ipython",
    "version": 3
   },
   "file_extension": ".py",
   "mimetype": "text/x-python",
   "name": "python",
   "nbconvert_exporter": "python",
   "pygments_lexer": "ipython3",
   "version": "3.7.3"
  }
 },
 "nbformat": 4,
 "nbformat_minor": 2
}
