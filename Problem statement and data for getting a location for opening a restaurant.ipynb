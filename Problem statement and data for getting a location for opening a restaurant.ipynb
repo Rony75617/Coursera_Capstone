{
 "cells": [
  {
   "cell_type": "markdown",
   "metadata": {},
   "source": [
    "# Suggestion of Cities for Opening a Restaurant\n",
    "___"
   ]
  },
  {
   "cell_type": "markdown",
   "metadata": {},
   "source": [
    "## Introduction\n",
    "___"
   ]
  },
  {
   "cell_type": "markdown",
   "metadata": {},
   "source": [
    "Restaurants provide the best business opportunity for small scale investors and businessmen.If the quality of food,service and ambience of a restaurant is satisfactory then the restaurant ensures the inflow of customers and  provide a steady income to the owner.\n",
    "However,due to increase in the number of restaurants,opening a new profitable restaurant requires a lot of planning.Therefore profitable restaurant business is all about finding your niche customers and serving them the food that they want.Nowadays restautants specialized in giving a particular type of food are getting more popular.Hence the type of food  is the  first criteria to decide for opening a new restaurant.After the food,location plays a crucial role in the inflow of loyal customers. \n"
   ]
  },
  {
   "cell_type": "markdown",
   "metadata": {},
   "source": [
    "## Problem statement\n",
    "___"
   ]
  },
  {
   "cell_type": "markdown",
   "metadata": {},
   "source": [
    "After selecting  food the biggest challenge for opening a restaurant is selecting a location.The location should have customers who want to eat the food.The location should also have restaurants serving the same food.If the location has more number of restaurants serving a particular food it will clearly indicate that more customers are present in that location who want that food.Hence in this assignment the goal is to find  a list of cities where more no of a particular kind of restaurants are functioning.The list will give us an clear idea of prime locations for opening a restaurant.Any businessman or investor can use this project  to give a type of restaurant for e.g. Indian Restaurant and get a list of cities where maximum number of Indian restaurants are already functioning."
   ]
  },
  {
   "cell_type": "markdown",
   "metadata": {},
   "source": [
    "## Data\n",
    "___"
   ]
  },
  {
   "cell_type": "markdown",
   "metadata": {},
   "source": [
    "For preparing this project following two types of data will be used:\n",
    "\n",
    "1.**FOURSQUARE API** :This api will be used to search for all the venues(For e.g. Indian ) present in a City serving a particular type of customers.From these list of venues only restaurants data(For e.g. Indian Restaurant) will be selected.\n",
    "The number of these restaurants will be counted for the city.This process will be repeated for all the cities of United States of America and  finally a list will be created with cities and number of restuarants operating.\n",
    "\n",
    "2.**Kaggle**(https://www.kaggle.com/mahbubrob/usa-cities#usa_cities.csv) :This database is will be  used to get the longitude and latitude of all the cities.Subsequently this data will be used for querying in Foursquare api.\n"
   ]
  }
 ],
 "metadata": {
  "kernelspec": {
   "display_name": "Python 3",
   "language": "python",
   "name": "python3"
  },
  "language_info": {
   "codemirror_mode": {
    "name": "ipython",
    "version": 3
   },
   "file_extension": ".py",
   "mimetype": "text/x-python",
   "name": "python",
   "nbconvert_exporter": "python",
   "pygments_lexer": "ipython3",
   "version": "3.7.3"
  }
 },
 "nbformat": 4,
 "nbformat_minor": 2
}
